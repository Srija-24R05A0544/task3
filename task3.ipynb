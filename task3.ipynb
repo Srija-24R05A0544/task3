import random

class MarkovChainTextGenerator:
    def __init__(self, corpus, n=2):
        """
        Initialize the Markov Chain generator.
        :param corpus: Input text as a string
        :param n: Number of words in the state (n-gram size)
        """
        self.n = n
        self.corpus = corpus.split()
        self.model = self.build_model()

    def build_model(self):
        """
        Build the Markov model from the corpus.
        """
        model = {}
        for i in range(len(self.corpus) - self.n):
            # Create n-gram as the key
            key = tuple(self.corpus[i:i + self.n])
            # The word following the n-gram
            next_word = self.corpus[i + self.n]
            if key not in model:
                model[key] = []
            model[key].append(next_word)
        return model

    def generate_text(self, length=50):
        """
        Generate text of a given length using the Markov model.
        """
        # Randomly choose a starting n-gram
        key = random.choice(list(self.model.keys()))
        generated_words = list(key)

        for _ in range(length - self.n):
            if key in self.model:
                next_word = random.choice(self.model[key])
                generated_words.append(next_word)
                key = tuple(generated_words[-self.n:])
            else:
                # If key not found, pick a new random key
                key = random.choice(list(self.model.keys()))
                generated_words.extend(list(key))
        return ' '.join(generated_words)


# ✅ Example usage
if __name__ == "__main__":
    corpus = """Artificial intelligence is the simulation of human intelligence processes by machines,
    especially computer systems. These processes include learning, reasoning, and self-correction."""

    generator = MarkovChainTextGenerator(corpus, n=2)
    generated_text = generator.generate_text(length=50)
    print("Generated Text:\n", generated_text)
