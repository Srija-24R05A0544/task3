{
  "nbformat": 4,
  "nbformat_minor": 0,
  "metadata": {
    "colab": {
      "provenance": []
    },
    "kernelspec": {
      "name": "python3",
      "display_name": "Python 3"
    },
    "language_info": {
      "name": "python"
    }
  },
  "cells": [
    {
      "cell_type": "code",
      "source": [
        "import random\n",
        "\n",
        "class MarkovChainTextGenerator:\n",
        "    def __init__(self, corpus, n=2):\n",
        "        \"\"\"\n",
        "        Initialize the Markov Chain generator.\n",
        "        :param corpus: Input text as a string\n",
        "        :param n: Number of words in the state (n-gram size)\n",
        "        \"\"\"\n",
        "        self.n = n\n",
        "        self.corpus = corpus.split()\n",
        "        self.model = self.build_model()\n",
        "\n",
        "    def build_model(self):\n",
        "        \"\"\"\n",
        "        Build the Markov model from the corpus.\n",
        "        \"\"\"\n",
        "        model = {}\n",
        "        for i in range(len(self.corpus) - self.n):\n",
        "            # Create n-gram as the key\n",
        "            key = tuple(self.corpus[i:i + self.n])\n",
        "            # The word following the n-gram\n",
        "            next_word = self.corpus[i + self.n]\n",
        "            if key not in model:\n",
        "                model[key] = []\n",
        "            model[key].append(next_word)\n",
        "        return model\n",
        "\n",
        "    def generate_text(self, length=50):\n",
        "        \"\"\"\n",
        "        Generate text of a given length using the Markov model.\n",
        "        \"\"\"\n",
        "        # Randomly choose a starting n-gram\n",
        "        key = random.choice(list(self.model.keys()))\n",
        "        generated_words = list(key)\n",
        "\n",
        "        for _ in range(length - self.n):\n",
        "            if key in self.model:\n",
        "                next_word = random.choice(self.model[key])\n",
        "                generated_words.append(next_word)\n",
        "                key = tuple(generated_words[-self.n:])\n",
        "            else:\n",
        "                # If key not found, pick a new random key\n",
        "                key = random.choice(list(self.model.keys()))\n",
        "                generated_words.extend(list(key))\n",
        "        return ' '.join(generated_words)\n",
        "\n",
        "\n",
        "# ✅ Example usage\n",
        "if __name__ == \"__main__\":\n",
        "    corpus = \"\"\"Artificial intelligence is the simulation of human intelligence processes by machines,\n",
        "    especially computer systems. These processes include learning, reasoning, and self-correction.\"\"\"\n",
        "\n",
        "    generator = MarkovChainTextGenerator(corpus, n=2)\n",
        "    generated_text = generator.generate_text(length=50)\n",
        "    print(\"Generated Text:\\n\", generated_text)\n"
      ],
      "metadata": {
        "colab": {
          "base_uri": "https://localhost:8080/"
        },
        "id": "BctaTxw6H72f",
        "outputId": "3268a897-1a9b-47f0-c9d8-d305935db721"
      },
      "execution_count": 16,
      "outputs": [
        {
          "output_type": "stream",
          "name": "stdout",
          "text": [
            "Generated Text:\n",
            " processes include learning, reasoning, and self-correction. reasoning, and self-correction. systems. These processes include learning, reasoning, and self-correction. include learning, reasoning, and self-correction. reasoning, and self-correction. intelligence is the simulation of human intelligence processes by machines, especially computer systems. These processes include learning, reasoning, and self-correction. simulation of human intelligence processes by machines, especially computer systems. These\n"
          ]
        }
      ]
    }
  ]
}